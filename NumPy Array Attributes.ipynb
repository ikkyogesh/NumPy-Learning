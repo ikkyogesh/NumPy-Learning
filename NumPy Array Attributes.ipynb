{
 "cells": [
  {
   "cell_type": "code",
   "execution_count": 1,
   "metadata": {},
   "outputs": [],
   "source": [
    "import numpy as np\n",
    "\n",
    "np.random.seed(0) # seed for reproducibility\n",
    "\n",
    "x1 = np.random.randint(10, size=6) # One-dimensional array\n",
    "x2 = np.random.randint(10, size=(3,4)) # Two-dimensional array\n",
    "x3 = np.random.randint(10, size=(3, 4, 5),dtype=np.int64) # Three-dimensional array\n"
   ]
  },
  {
   "cell_type": "code",
   "execution_count": 2,
   "metadata": {},
   "outputs": [
    {
     "name": "stdout",
     "output_type": "stream",
     "text": [
      "x3 ndim:  3\n",
      "x3 shape:  (3, 4, 5)\n",
      "x3 size:  60\n",
      "dtype:  int64\n",
      "itemsize : 8 bytes\n",
      "nbytes : 480 bytes\n"
     ]
    }
   ],
   "source": [
    "#print(x3, \"\\n\")\n",
    "print (\"x3 ndim: \", x3.ndim)\n",
    "print (\"x3 shape: \", x3.shape)\n",
    "print (\"x3 size: \", x3.size)\n",
    "print (\"dtype: \", x3.dtype)\n",
    "\n",
    "print (\"itemsize :\", x3.itemsize, \"bytes\")\n",
    "print (\"nbytes :\", x3.nbytes, \"bytes\")"
   ]
  },
  {
   "cell_type": "code",
   "execution_count": 41,
   "metadata": {},
   "outputs": [
    {
     "name": "stdout",
     "output_type": "stream",
     "text": [
      "[5 0 3 3 7 9] \n",
      "\n",
      "First index element in array is 5\n",
      "Last index element in array is: 9\n",
      "Starting three index elements in the array are: [5 0 3]\n"
     ]
    }
   ],
   "source": [
    "# Array indexing: Accessing Single Elements\n",
    "print (x1, \"\\n\")\n",
    "print (\"First index element in array is\", x1[0])\n",
    " \n",
    "print (\"Last index element in array is:\", x1[-1])\n",
    "print (\"Starting three index elements in the array are:\", x1[0:3])"
   ]
  },
  {
   "cell_type": "code",
   "execution_count": 52,
   "metadata": {},
   "outputs": [
    {
     "name": "stdout",
     "output_type": "stream",
     "text": [
      "[[3 5 2 4]\n",
      " [7 6 8 8]\n",
      " [1 6 7 7]] \n",
      "\n",
      "The first array element is : 3\n",
      "The second array element is : 5\n",
      "The second array element in second row of array is : 6\n",
      "The array after modification is : \n",
      " [[12  5  2  4]\n",
      " [ 7  6  8  8]\n",
      " [ 1  6  7  7]]\n"
     ]
    }
   ],
   "source": [
    "# Array indexing: For multi-dimensional arrays\n",
    "print (x2, \"\\n\")\n",
    "\n",
    "print (\"The first array element is :\", x2[0,0])\n",
    "print (\"The second array element is :\", x2[0,1])\n",
    "print (\"The second array element in second row of array is :\", x2[1,1])\n",
    "\n",
    "x2[0][0] = 12\n",
    "\n",
    "print (\"The array after modification is : \\n\", x2)"
   ]
  },
  {
   "cell_type": "code",
   "execution_count": 67,
   "metadata": {},
   "outputs": [
    {
     "name": "stdout",
     "output_type": "stream",
     "text": [
      "Array elements are : [0 1 2 3 4 5 6 7 8 9]\n",
      "First five elements of the array are : [0 1 2 3 4]\n",
      "Elements after index 5 are : [5 6 7 8 9]\n",
      "Middle array elements are : [4 5 6]\n",
      "Every other element in the array : [0 2 4 6 8]\n",
      "Every array element starting at index 1 are : [1 3 5 7 9]\n",
      "All elements reversed of the array : [9 8 7 6 5 4 3 2 1 0]\n",
      "elements reversed from index 5 : [5 3 1]\n"
     ]
    }
   ],
   "source": [
    "# Array slicing: Accessing sub arrays\n",
    "\n",
    "x = np.arange(0,10)\n",
    "\n",
    "print (\"Array elements are :\", x)\n",
    "\n",
    "# first five elements\n",
    "print (\"First five elements of the array are :\", x[:5])\n",
    "\n",
    "# elements after index 5\n",
    "print (\"Elements after index 5 are :\", x[5:])\n",
    "\n",
    "# middle sub array\n",
    "print (\"Middle array elements are :\", x[4:7])\n",
    "\n",
    "# every other element\n",
    "print (\"Every other element in the array :\", x[::2])\n",
    "\n",
    "# every other element in array starting at index 1\n",
    "print (\"Every array element starting at index 1 are :\", x[1::2])\n",
    "\n",
    "# A potentially confusing case is when the step value is negative. Defaults to start and stop are swapped. \n",
    "print (\"All elements reversed of the array :\", x[::-1])\n",
    "\n",
    "# Reversed every other from index 5\n",
    "print (\"elements reversed from index 5 :\", x[5::-2])"
   ]
  },
  {
   "cell_type": "code",
   "execution_count": 106,
   "metadata": {},
   "outputs": [
    {
     "name": "stdout",
     "output_type": "stream",
     "text": [
      "The array elements are :\n",
      " [[12  5  2  4]\n",
      " [ 7  6  8  8]\n",
      " [ 1  6  7  7]]\n",
      " \n",
      "Two rows three columns\n",
      "[[12  5  2]\n",
      " [ 7  6  8]]\n",
      "\n",
      "All rows, every other column\n",
      "[[12  2]\n",
      " [ 7  8]\n",
      " [ 1  7]]\n",
      "\n",
      "Reversing subarray dimensions\n",
      "[[ 7  7  6  1]\n",
      " [ 8  8  6  7]\n",
      " [ 4  2  5 12]]\n",
      "\n",
      "First column of array\n",
      "[12  7  1]\n",
      "\n",
      "First row of array : [12  5  2  4]\n",
      "\n",
      "Equivalent to x2[0,:] is  [12  5  2  4]\n"
     ]
    }
   ],
   "source": [
    "# Multidimensional subarrays\n",
    "print (\"The array elements are :\\n\", x2)\n",
    "\n",
    "# two rows three columns\n",
    "print (\" \\nTwo rows three columns\")\n",
    "print (x2[:2,:3])\n",
    "\n",
    "# all rows, every other column\n",
    "print (\"\\nAll rows, every other column\")\n",
    "print (x2[:3,::2])\n",
    "\n",
    "# reversing subarray dimensions\n",
    "print (\"\\nReversing subarray dimensions\")\n",
    "print (x2[::-1,::-1])\n",
    "\n",
    "# first column on x2\n",
    "print (\"\\nFirst column of array\")\n",
    "print (x2[:,0])\n",
    "\n",
    "print (\"\\nFirst row of array :\", x2[0,:])\n",
    "\n",
    "print (\"\\nEquivalent to x2[0,:] is \", x2[0])"
   ]
  },
  {
   "cell_type": "code",
   "execution_count": 112,
   "metadata": {},
   "outputs": [
    {
     "name": "stdout",
     "output_type": "stream",
     "text": [
      "[[99  5  2  4]\n",
      " [ 7  6  8  8]\n",
      " [ 1  6  7  7]]\n",
      "\n",
      " The 2x2 sub array is :\n",
      " [[99  5]\n",
      " [ 7  6]]\n",
      "\n",
      " The updated array structure is :\n",
      " [[99  5  2  4]\n",
      " [ 7  6  8  8]\n",
      " [ 1  6  7  7]]\n"
     ]
    }
   ],
   "source": [
    "# sub arrays as no-copy views \n",
    "print (x2)\n",
    "\n",
    "# extract 2x2 subarray from this\n",
    "x2_sub = x2[:2,:2]\n",
    "print (\"\\n The 2x2 sub array is :\\n\", x2_sub)\n",
    "\n",
    "# modify the subarray and see the original array i.e. x2 is changed. Unlike Python arrays which are copies the \n",
    "# NumPy arrays are views\n",
    "\n",
    "x2_sub[0][0] = 99\n",
    "\n",
    "print (\"\\n The updated array structure is :\\n\", x2)\n"
   ]
  },
  {
   "cell_type": "code",
   "execution_count": 117,
   "metadata": {},
   "outputs": [
    {
     "name": "stdout",
     "output_type": "stream",
     "text": [
      "[[99  5]\n",
      " [ 7  6]]\n",
      "\n",
      " The copied sub array after the change :\n",
      " [[42  5]\n",
      " [ 7  6]]\n",
      "\n",
      " The original array after the change : \n",
      " [[99  5  2  4]\n",
      " [ 7  6  8  8]\n",
      " [ 1  6  7  7]]\n"
     ]
    }
   ],
   "source": [
    "# creating copies of arrays using copy() function\n",
    "\n",
    "x2_sub_copy = x2[:2,:2].copy()\n",
    "\n",
    "print(x2_sub_copy)\n",
    "\n",
    "# try to modify the element of the copied subarray\n",
    "x2_sub_copy[0][0] = 42\n",
    "\n",
    "print (\"\\n The copied sub array after the change :\\n\", x2_sub_copy)\n",
    "\n",
    "print (\"\\n The original array after the change : \\n\", x2)"
   ]
  },
  {
   "cell_type": "code",
   "execution_count": null,
   "metadata": {},
   "outputs": [],
   "source": []
  }
 ],
 "metadata": {
  "kernelspec": {
   "display_name": "Python 3",
   "language": "python",
   "name": "python3"
  },
  "language_info": {
   "codemirror_mode": {
    "name": "ipython",
    "version": 3
   },
   "file_extension": ".py",
   "mimetype": "text/x-python",
   "name": "python",
   "nbconvert_exporter": "python",
   "pygments_lexer": "ipython3",
   "version": "3.7.1"
  }
 },
 "nbformat": 4,
 "nbformat_minor": 2
}
